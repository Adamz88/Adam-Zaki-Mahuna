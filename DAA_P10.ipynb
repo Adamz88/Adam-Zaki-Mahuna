{
  "nbformat": 4,
  "nbformat_minor": 0,
  "metadata": {
    "colab": {
      "provenance": [],
      "authorship_tag": "ABX9TyMhJ8QmYSlSCV6AG61ID5vM",
      "include_colab_link": true
    },
    "kernelspec": {
      "name": "python3",
      "display_name": "Python 3"
    },
    "language_info": {
      "name": "python"
    }
  },
  "cells": [
    {
      "cell_type": "markdown",
      "metadata": {
        "id": "view-in-github",
        "colab_type": "text"
      },
      "source": [
        "<a href=\"https://colab.research.google.com/github/Adamz88/Adam-Zaki-Mahuna/blob/main/DAA_P10.ipynb\" target=\"_parent\"><img src=\"https://colab.research.google.com/assets/colab-badge.svg\" alt=\"Open In Colab\"/></a>"
      ]
    },
    {
      "cell_type": "code",
      "execution_count": 20,
      "metadata": {
        "colab": {
          "base_uri": "https://localhost:8080/"
        },
        "id": "cNfZrYH2pICJ",
        "outputId": "ce61604a-15ec-4a35-aef9-11060826caaf"
      },
      "outputs": [
        {
          "output_type": "stream",
          "name": "stdout",
          "text": [
            "Requirement already satisfied: pulp in /usr/local/lib/python3.10/dist-packages (2.7.0)\n"
          ]
        }
      ],
      "source": [
        "pip install pulp"
      ]
    },
    {
      "cell_type": "code",
      "source": [
        "import pulp"
      ],
      "metadata": {
        "id": "rUhobmzup0e4"
      },
      "execution_count": 21,
      "outputs": []
    },
    {
      "cell_type": "code",
      "source": [
        "# Instantiate our problem class\n",
        "model = pulp.LpProblem(\"ProfitMaximisingProblem\", pulp.LpMaximize)\n",
        "A = pulp.LpVariable('A', lowBound=0, cat='Integer')\n",
        "B = pulp.LpVariable('B', lowBound=0, cat='Integer')\n",
        "\n",
        "# Objective function\n",
        "model += 5000 * A + 2500 * B, \"Profit\"\n",
        "# Constraints\n",
        "model += 3 * A + 2 * B <= 20\n",
        "model += 4 * A + 3 * B <= 30\n",
        "model += 4 * A + 3 * B <= 44"
      ],
      "metadata": {
        "id": "bMB3hLBepWIq"
      },
      "execution_count": 22,
      "outputs": []
    },
    {
      "cell_type": "code",
      "source": [
        "# Solve our problem\n",
        "model.solve()\n",
        "pulp.LpStatus[model.status]"
      ],
      "metadata": {
        "colab": {
          "base_uri": "https://localhost:8080/",
          "height": 36
        },
        "id": "3cPcLGw1p5IC",
        "outputId": "fb6cf87e-fc32-4838-8593-8b3403dddefe"
      },
      "execution_count": 23,
      "outputs": [
        {
          "output_type": "execute_result",
          "data": {
            "text/plain": [
              "'Optimal'"
            ],
            "application/vnd.google.colaboratory.intrinsic+json": {
              "type": "string"
            }
          },
          "metadata": {},
          "execution_count": 23
        }
      ]
    },
    {
      "cell_type": "code",
      "source": [
        "# Print our decision variable values\n",
        "print (A.varValue)\n",
        "print (B.varValue)"
      ],
      "metadata": {
        "colab": {
          "base_uri": "https://localhost:8080/"
        },
        "id": "bO0hTH55p8uP",
        "outputId": "a45bbeea-4915-4197-f06f-a0a82e59975e"
      },
      "execution_count": 24,
      "outputs": [
        {
          "output_type": "stream",
          "name": "stdout",
          "text": [
            "6.0\n",
            "1.0\n"
          ]
        }
      ]
    },
    {
      "cell_type": "code",
      "source": [
        "# Print our objective function value\n",
        "print (pulp.value(model.objective))"
      ],
      "metadata": {
        "colab": {
          "base_uri": "https://localhost:8080/"
        },
        "id": "Td1Zg5AKqC7p",
        "outputId": "5f0a14fd-985c-40a1-9df7-f51e1dc5efd1"
      },
      "execution_count": 25,
      "outputs": [
        {
          "output_type": "stream",
          "name": "stdout",
          "text": [
            "32500.0\n"
          ]
        }
      ]
    },
    {
      "cell_type": "code",
      "source": [
        "import pulp\n",
        "\n",
        "# Instantiate our problem class\n",
        "model = pulp.LpProblem(\"ProfitMaximisingProblem\", pulp.LpMaximize)\n",
        "A = pulp.LpVariable('A', lowBound=0, cat='Integer')\n",
        "B = pulp.LpVariable('B', lowBound=0, cat='Integer')\n",
        "\n",
        "# Objective function\n",
        "model += 4200 * A + 2800 * B, \"Profit\"\n",
        "# Constraints\n",
        "model += 3 * A + 2 * B <= 20\n",
        "model += 4 * A + 3 * B <= 30\n",
        "model += 4 * A + 3 * B <= 44"
      ],
      "metadata": {
        "id": "a1ZCo5Fktbv3"
      },
      "execution_count": 30,
      "outputs": []
    },
    {
      "cell_type": "code",
      "source": [
        "# Solve our problem\n",
        "model.solve()\n",
        "pulp.LpStatus[model.status]"
      ],
      "metadata": {
        "colab": {
          "base_uri": "https://localhost:8080/",
          "height": 36
        },
        "id": "o-jYAKeetyFK",
        "outputId": "d06b0162-95d7-4732-f67f-d17f88ccbbd6"
      },
      "execution_count": 31,
      "outputs": [
        {
          "output_type": "execute_result",
          "data": {
            "text/plain": [
              "'Optimal'"
            ],
            "application/vnd.google.colaboratory.intrinsic+json": {
              "type": "string"
            }
          },
          "metadata": {},
          "execution_count": 31
        }
      ]
    },
    {
      "cell_type": "code",
      "source": [
        "# Print our decision variable values\n",
        "print (A.varValue)\n",
        "print (B.varValue)"
      ],
      "metadata": {
        "colab": {
          "base_uri": "https://localhost:8080/"
        },
        "id": "iatCkmZDt1LZ",
        "outputId": "5aac988a-01e0-4a89-85ba-5caf7f806e32"
      },
      "execution_count": 32,
      "outputs": [
        {
          "output_type": "stream",
          "name": "stdout",
          "text": [
            "6.0\n",
            "1.0\n"
          ]
        }
      ]
    },
    {
      "cell_type": "code",
      "source": [
        "# Print our objective function value\n",
        "print (pulp.value(model.objective))"
      ],
      "metadata": {
        "colab": {
          "base_uri": "https://localhost:8080/"
        },
        "id": "fOD-cFJ6uESc",
        "outputId": "10954612-e942-4e55-f2a3-a89618dfd394"
      },
      "execution_count": 33,
      "outputs": [
        {
          "output_type": "stream",
          "name": "stdout",
          "text": [
            "28000.0\n"
          ]
        }
      ]
    },
    {
      "cell_type": "code",
      "source": [
        "# 4x + 3y = 34\n",
        "import pulp\n",
        "\n",
        "# Membuat objek masalah optimasi\n",
        "model = pulp.LpProblem(name=\"Pemecahan_Persamaan\", sense=pulp.LpMinimize)\n",
        "\n",
        "# Membuat variabel x dan y\n",
        "x = pulp.LpVariable(name=\"x\")\n",
        "y = pulp.LpVariable(name=\"y\")\n",
        "\n",
        "# Menambahkan batasan\n",
        "model += 4 * x + 3 * y == 34\n",
        "\n",
        "# Menyelesaikan masalah\n",
        "model.solve()\n",
        "\n",
        "# Menampilkan hasil\n",
        "print(\"Status:\", model.status)\n",
        "print(\"Nilai x =\", x.varValue)\n",
        "print(\"Nilai y =\", y.varValue)\n",
        ""
      ],
      "metadata": {
        "colab": {
          "base_uri": "https://localhost:8080/"
        },
        "id": "GqnPN0dnu-Er",
        "outputId": "f091d2ce-f6ee-4f0f-cb7e-f7b669abbbc9"
      },
      "execution_count": 36,
      "outputs": [
        {
          "output_type": "stream",
          "name": "stdout",
          "text": [
            "Status: 1\n",
            "Nilai x = 8.5\n",
            "Nilai y = 0.0\n"
          ]
        }
      ]
    },
    {
      "cell_type": "code",
      "source": [
        "# 5x + y = 37\n",
        "import pulp\n",
        "\n",
        "# Membuat objek masalah optimasi\n",
        "model = pulp.LpProblem(name=\"Pemecahan_Persamaan\", sense=pulp.LpMinimize)\n",
        "\n",
        "# Membuat variabel x dan y\n",
        "x = pulp.LpVariable(name=\"x\")\n",
        "y = pulp.LpVariable(name=\"y\")\n",
        "\n",
        "# Menambahkan batasan\n",
        "model += 5 * x + y == 37\n",
        "\n",
        "# Menyelesaikan masalah\n",
        "model.solve()\n",
        "\n",
        "# Menampilkan hasil\n",
        "print(\"Status:\", model.status)\n",
        "print(\"Nilai x =\", x.varValue)\n",
        "print(\"Nilai y =\", y.varValue)"
      ],
      "metadata": {
        "colab": {
          "base_uri": "https://localhost:8080/"
        },
        "id": "48JgThiawC4l",
        "outputId": "f5c6971c-3ce1-474b-be0f-3319f3624307"
      },
      "execution_count": 46,
      "outputs": [
        {
          "output_type": "stream",
          "name": "stdout",
          "text": [
            "Status: 1\n",
            "Nilai x = 7.4\n",
            "Nilai y = 0.0\n"
          ]
        }
      ]
    },
    {
      "cell_type": "code",
      "source": [
        "# Soal cerita 1\n",
        "import pulp\n",
        "\n",
        "# Membuat objek masalah pemrograman linier\n",
        "model = pulp.LpProblem(name=\"Harga_Pensil_Buku\", sense=pulp.LpMinimize)\n",
        "\n",
        "# Membuat variabel P (pensil) dan B (buku)\n",
        "P = pulp.LpVariable(name=\"P\", lowBound=0, cat=\"Integer\")\n",
        "B = pulp.LpVariable(name=\"B\", lowBound=0, cat=\"Integer\")\n",
        "\n",
        "# Menambahkan persamaan pertama (3P + 4B = 11,000)\n",
        "model += 3 * P + 4 * B == 11000\n",
        "\n",
        "# Menambahkan persamaan kedua (1P + 7B = 15,000)\n",
        "model += 1 * P + 7 * B == 15000\n",
        "\n",
        "# Tujuan: Minimalkan harga (2P + 6B)\n",
        "model += 2 * P + 6 * B\n",
        "\n",
        "# Menyelesaikan masalah pemrograman linier\n",
        "model.solve()\n",
        "\n",
        "# Menampilkan hasil\n",
        "if pulp.LpStatus[model.status] == \"Optimal\":\n",
        "    harga_pensil = P.varValue * 2\n",
        "    harga_buku = B.varValue * 6\n",
        "    print(f\"Harga dua pensil adalah: Rp {harga_pensil}\")\n",
        "    print(f\"Harga enam buku adalah: Rp {harga_buku}\")\n",
        "else:\n",
        "    print(\"Tidak ada solusi yang optimal ditemukan.\")\n"
      ],
      "metadata": {
        "colab": {
          "base_uri": "https://localhost:8080/"
        },
        "id": "2CmtVZceyUgl",
        "outputId": "13cff1ff-72a2-49b1-fd78-ae27fe36a827"
      },
      "execution_count": 50,
      "outputs": [
        {
          "output_type": "stream",
          "name": "stdout",
          "text": [
            "Harga dua pensil adalah: Rp 2000.0\n",
            "Harga enam buku adalah: Rp 12000.0\n"
          ]
        }
      ]
    },
    {
      "cell_type": "code",
      "source": [
        "import pulp\n",
        "\n",
        "# Membuat objek masalah pemrograman linier\n",
        "model = pulp.LpProblem(name=\"Keliling_Periode\", sense=pulp.LpMinimize)\n",
        "\n",
        "# Membuat variabel panjang (L) dan lebar (W)\n",
        "L = pulp.LpVariable(name=\"Panjang\", lowBound=0)\n",
        "W = pulp.LpVariable(name=\"Lebar\", lowBound=0)\n",
        "\n",
        "# Menambahkan persamaan keliling (2L + 2W = 44)\n",
        "model += 2 * L + 2 * W == 44\n",
        "\n",
        "# Tujuan: Minimalkan perbedaan panjang dan lebar (|L - W|)\n",
        "model += pulp.lpSum([L, -1 * W])\n",
        "\n",
        "# Menyelesaikan masalah pemrograman linier\n",
        "model.solve()\n",
        "\n",
        "# Menampilkan hasil\n",
        "if pulp.LpStatus[model.status] == \"Optimal\":\n",
        "    panjang = L.varValue\n",
        "    lebar = W.varValue\n",
        "    print(f\"Panjang dari persegi panjang adalah: {panjang} cm\")\n",
        "    print(f\"Lebar dari persegi panjang adalah: {lebar} cm\")\n",
        "else:\n",
        "    print(\"Tidak ada solusi yang optimal ditemukan.\")\n"
      ],
      "metadata": {
        "colab": {
          "base_uri": "https://localhost:8080/"
        },
        "id": "JOcqlCjTzi3p",
        "outputId": "26f538b4-fa30-48e9-801f-187c1eaa561d"
      },
      "execution_count": 52,
      "outputs": [
        {
          "output_type": "stream",
          "name": "stdout",
          "text": [
            "Panjang dari persegi panjang adalah: 0.0 cm\n",
            "Lebar dari persegi panjang adalah: 22.0 cm\n"
          ]
        }
      ]
    },
    {
      "cell_type": "code",
      "source": [
        "# Import reuqired library\n",
        "import numpy as np\n",
        "from scipy.optimize import linprog\n",
        "\n",
        "# Set the inequality constraints matrix\n",
        "# Notes : the inequality constraints must be in the form of <=\n",
        "A = np.array([[1, 0], [2, 3], [1, 1], [-1, 0], [0, -1]])\n",
        "\n",
        "# Set the inequality constraints vector\n",
        "b = np.array([16, 19, 8, 0, 0])\n",
        "\n",
        "# Set the coefficients of the linear objective function vector\n",
        "# Note: when maximizing, change the signs of the c vector coefficient\n",
        "c = np.array([-5, -7])\n",
        "\n",
        "# Solve linear programming problem\n",
        "res = linprog(c, A_ub=A, b_ub=b)\n",
        "\n",
        "# Print results\n",
        "print('Optimal value:', round(res.fun*-1, ndigits=2),\n",
        "      '\\nx values:', res.x,\n",
        "      '\\nNumber of iterations performed:', res.nit,\n",
        "      '\\nStatus:', res.message)\n"
      ],
      "metadata": {
        "colab": {
          "base_uri": "https://localhost:8080/"
        },
        "id": "wcfphaB-2PeE",
        "outputId": "587bca77-635b-4724-b1e7-595deebb0b9b"
      },
      "execution_count": 53,
      "outputs": [
        {
          "output_type": "stream",
          "name": "stdout",
          "text": [
            "Optimal value: 46.0 \n",
            "x values: [5. 3.] \n",
            "Number of iterations performed: 3 \n",
            "Status: Optimization terminated successfully. (HiGHS Status 7: Optimal)\n"
          ]
        }
      ]
    },
    {
      "cell_type": "code",
      "source": [
        "# 1.Impor modul yang diperlukan dari Scipy:\n",
        "\n",
        "from scipy.optimize import linprog\n",
        "\n",
        "# 2. Tentukan koefisien fungsi tujuan dan matriks batasan:\n",
        "\n",
        "# Koefisien fungsi tujuan (Z = 5x1 + 7x2)\n",
        "c = [-5, -7] # Karena kita ingin \"maksimalkan\" -5x1 - 7x2, maka perlu diubah menjadi \"-5\" dan \"-7\".\n",
        "\n",
        "# Koefisien matriks batasan\n",
        "A = [\n",
        "    [1, 0], # 1x1 + 0x2 <= 16\n",
        "    [2, 3], # 2x1 + 3x2 <= 19\n",
        "    [1, 1], # 1x1 + 1x2 <= 8\n",
        "]\n",
        "\n",
        "# Batasan kanan (rhs) dari masing-masing batasan\n",
        "b = [16, 19, 8]\n",
        "\n",
        "# 3. Tentukan batasan variabel x1 dan x2 sebagai variabel non-negatif:\n",
        "\n",
        "x1_bounds = (0, None) # x1 >= 0\n",
        "x2_bounds = (0, None) # x2 >= 0\n",
        "\n",
        "# 4. Gunakan linprog untuk menyelesaikan masalah pemrograman linier:\n",
        "\n",
        "result = linprog(c, A_ub=A, b_ub=b, bounds=[x1_bounds, x2_bounds], method=\"highs\")\n",
        "\n",
        "# 5. Tampilkan hasilnya:\n",
        "\n",
        "# Hasil optimasi\n",
        "print(\"Optimasi Solution:\")\n",
        "print(\"x1 =\", result.x[0])\n",
        "print(\"x2 =\", result.x[1])\n",
        "print(\"Max Z =\", -result.fun) # Karena tujuannya adalah memaksimalkan -z"
      ],
      "metadata": {
        "colab": {
          "base_uri": "https://localhost:8080/"
        },
        "id": "Rc6kpRdk4rq_",
        "outputId": "3d5612fb-7131-4b7a-e60c-191f8b883ee0"
      },
      "execution_count": 55,
      "outputs": [
        {
          "output_type": "stream",
          "name": "stdout",
          "text": [
            "Optimasi Solution:\n",
            "x1 = 5.0\n",
            "x2 = 3.0\n",
            "Max Z = 46.0\n"
          ]
        }
      ]
    },
    {
      "cell_type": "code",
      "source": [
        "from scipy.optimize import linprog\n",
        "#latihan dengan scipy\n",
        "#1\n",
        "\n",
        "# Fungsi objektif untuk mencari nilai x dan y\n",
        "c = [-1, -1]  # Karena linprog mencari minimum, kita gunakan koefisien -1 untuk mencari nilai maksimum dari -x dan -y.\n",
        "\n",
        "# Batasan persamaan\n",
        "A_eq = [[4, 12]]  # Matriks koefisien persamaan\n",
        "b_eq = [28]  # Hasil dari persamaan\n",
        "\n",
        "# Batasan variabel\n",
        "x_bounds = (0, None)\n",
        "y_bounds = (0, None)\n",
        "\n",
        "# Solusi pemrograman linear\n",
        "result = linprog(c, A_eq=A_eq, b_eq=b_eq, bounds=[x_bounds, y_bounds])\n",
        "\n",
        "if result.success:\n",
        "    x, y = result.x\n",
        "    max_value = -result.fun  # Kita mengambil nilai maksimum dari -x dan -y.\n",
        "\n",
        "    print(\"Nilai x:\", x)\n",
        "    print(\"Nilai y:\", y)\n",
        "    print(\"Nilai maksimum (x + y):\", max_value)\n",
        "else:\n",
        "    print(\"Tidak ada solusi optimal yang ditemukan.\")"
      ],
      "metadata": {
        "colab": {
          "base_uri": "https://localhost:8080/"
        },
        "id": "4W_LFSO0H1Fq",
        "outputId": "b198519c-0117-42fe-d6a0-c9eccd42d18f"
      },
      "execution_count": 2,
      "outputs": [
        {
          "output_type": "stream",
          "name": "stdout",
          "text": [
            "Nilai x: 7.0\n",
            "Nilai y: 0.0\n",
            "Nilai maksimum (x + y): 7.0\n"
          ]
        }
      ]
    },
    {
      "cell_type": "code",
      "source": [
        "from scipy.optimize import linprog\n",
        "#latihan dengan scipy\n",
        "#2\n",
        "\n",
        "# Fungsi objektif (karena linprog mencari minimum, kita perlu mengubah tanda)\n",
        "c = [-1, -1]  # Kita gunakan koefisien -1 untuk mencari maksimum dari -x dan -y.\n",
        "\n",
        "# Batasan persamaan\n",
        "A_eq = [[2, 1]]  # Matriks koefisien persamaan\n",
        "b_eq = [21]  # Hasil dari persamaan\n",
        "\n",
        "# Batasan variabel\n",
        "x_bounds = (0, None)\n",
        "y_bounds = (0, None)\n",
        "\n",
        "# Solusi pemrograman linear\n",
        "result = linprog(c, A_eq=A_eq, b_eq=b_eq, bounds=[x_bounds, y_bounds])\n",
        "\n",
        "if result.success:\n",
        "    x, y = result.x\n",
        "    max_value = -result.fun  # Kita mengambil maksimum dari -x dan -y.\n",
        "\n",
        "    print(\"Nilai x:\", x)\n",
        "    print(\"Nilai y:\", y)\n",
        "    print(\"Nilai maksimum (x + y):\", max_value)\n",
        "else:\n",
        "    print(\"Tidak ada solusi optimal yang ditemukan.\")"
      ],
      "metadata": {
        "colab": {
          "base_uri": "https://localhost:8080/"
        },
        "id": "2HlA0sJHIGh_",
        "outputId": "5754fb59-17a1-4cb2-a2d2-3d276e120d2f"
      },
      "execution_count": 3,
      "outputs": [
        {
          "output_type": "stream",
          "name": "stdout",
          "text": [
            "Nilai x: 0.0\n",
            "Nilai y: 21.0\n",
            "Nilai maksimum (x + y): 21.0\n"
          ]
        }
      ]
    },
    {
      "cell_type": "code",
      "source": [
        "from scipy.optimize import linprog\n",
        "#latihan dengan scipy\n",
        "#3\n",
        "# Fungsi objektif (karena linprog mencari minimum, kita perlu mengubah tanda)\n",
        "c = [-3, -4]\n",
        "\n",
        "# Batasan-batasan\n",
        "A = [\n",
        "    [-3, -4],\n",
        "    [-1, -1]\n",
        "]\n",
        "\n",
        "b = [-55, -16]\n",
        "\n",
        "# Batasan variabel\n",
        "L_bounds = (0, None)\n",
        "M_bounds = (0, None)\n",
        "\n",
        "# Solusi pemrograman linear\n",
        "result = linprog(c, A_ub=A, b_ub=b, bounds=[L_bounds, M_bounds])\n",
        "\n",
        "if result.success:\n",
        "    L, M = result.x\n",
        "    min_value = result.fun\n",
        "\n",
        "    print(\"Jam kerja Lisa (L):\", L)\n",
        "    print(\"Jam kerja Muri (M):\", M)\n",
        "    print(\"Nilai minimum:\", min_value)\n",
        "else:\n",
        "    print(\"Tidak ada solusi optimal yang ditemukan.\")"
      ],
      "metadata": {
        "colab": {
          "base_uri": "https://localhost:8080/"
        },
        "id": "1iO_HsANIOUr",
        "outputId": "72489a01-1893-4979-ba26-23d9712e6eb7"
      },
      "execution_count": 5,
      "outputs": [
        {
          "output_type": "stream",
          "name": "stdout",
          "text": [
            "Tidak ada solusi optimal yang ditemukan.\n"
          ]
        }
      ]
    }
  ]
}